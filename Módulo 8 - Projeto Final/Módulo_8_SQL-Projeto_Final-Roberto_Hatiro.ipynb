{
 "cells": [
  {
   "cell_type": "markdown",
   "id": "7335c467-63ae-4224-a318-c81de9a3a294",
   "metadata": {},
   "source": [
    "<img src=\"https://raw.githubusercontent.com/rhatiro/Curso_EBAC-Profissao_Cientista_de_Dados/main/ebac-course-utils/media/logo/newebac_logo_black_half.png\" alt=\"ebac-logo\">\n",
    "\n",
    "---\n",
    "\n",
    "# **SQL para Análise de Dados**\n",
    "## **Módulo 8** | SQL: Projeto\n",
    "\n",
    "Professora [Mariane Neiva](https://www.linkedin.com/in/mariane-neiva/)<br>\n",
    "Aluno [Roberto Hatiro Nishiyama](https://www.linkedin.com/in/rhatiro/)<br>\n",
    "\n",
    "Data: 23 de maio de 2023.\n",
    "\n",
    "---"
   ]
  },
  {
   "cell_type": "markdown",
   "id": "43d2f2a0-493e-4e08-8c1e-2d2bce9e622b",
   "metadata": {
    "tags": []
   },
   "source": [
    "# **Índice**"
   ]
  },
  {
   "cell_type": "markdown",
   "id": "63427769-16c9-43c1-a27f-d4c889d1978c",
   "metadata": {
    "tags": []
   },
   "source": [
    "- [**0. Conjunto de dados**](#0.-Conjunto-de-dados)  \n",
    "\n",
    "- [**1. Criação da tabela**](#1.-Criação-da-tabela)  \n",
    "\n",
    "- [**2. EDA (Exploratory Data Analysis)**](#2.-EDA-(Exploratory-Data-Analysis))  \n",
    "\n",
    "> - [2.1 Preview da tabela](#2.1-Preview-da-tabela)  \n",
    "\n",
    "> - [2.2 Quantidade de linhas no dataset](#2.2-Quantidade-de-linhas-no-dataset)  \n",
    "\n",
    "> - [2.3 Tipos de dados em cada coluna](#2.3-Tipos-de-dados-em-cada-coluna)  \n",
    "\n",
    "> - [2.4.1 Categorias da variável *escolaridade*](#2.4.1-Categorias-da-variável-escolaridade)  \n",
    "> - [2.4.2 Categorias da variável *estado_civil*](#2.4.2-Categorias-da-variável-estado_civil)  \n",
    "> - [2.4.3 Categorias da variável *sexo*](#2.4.3-Categorias-da-variável-sexo)  \n",
    "\n",
    "> - [2.5.1 Quantidade de clientes em cada faixa salarial](#2.5.1-Quantidade-de-clientes-em-cada-faixa-salarial)  \n",
    "> - [2.5.2 Quantidade de clientes de acordo com cada tipo de cartão](#2.5.2-Quantidade-de-clientes-de-acordo-com-cada-tipo-de-cartão)  \n",
    "> - [2.5.3 Quantidade de clientes de acordo com o sexo](#2.5.3-Quantidade-de-clientes-de-acordo-com-o-sexo)  \n",
    "\n",
    "> - [2.6.1 Análise da idade dos clientes (média, mínima e máxima)](#2.6.1-Análise-da-idade-dos-clientes-(média,-mínima-e-máxima))  \n",
    "> - [2.6.2 Análise dos gastos dos clientes (média, mínima e máxima)](#2.6.2-Análise-dos-gastos-dos-clientes-(média,-mínima-e-máxima))  \n",
    "\n",
    "> - [2.7.1 Limite mínimo de crédito de acordo com o tipo de cartão, sexo e escolaridade](#2.7.1-Limite-mínimo-de-crédito-de-acordo-com-o-tipo-de-cartão,-sexo-e-escolaridade)  \n",
    "> - [2.7.2 Limite máximo de crédito de acordo com o tipo de cartão, sexo e escolaridade](#2.7.2-Limite-máximo-de-crédito-de-acordo-com-o-tipo-de-cartão,-sexo-e-escolaridade)  \n",
    "\n",
    "> - [2.8 Análise da quantidade e valores das transações de acordo com o sexo e estado civil](#2.8-Análise-da-quantidade-e-valores-das-transações-de-acordo-com-o-sexo-e-estado-civil)  \n",
    "\n",
    "> - [2.9 Média da quantidade de transações, valor das transações e limite de crédito de acordo com o tipo de cartão e salário anual](#2.9-Média-da-quantidade-de-transações,-valor-das-transações-e-limite-de-crédito-de-acordo-com-o-tipo-de-cartão-e-salário-anual)  \n",
    "\n",
    "- [**3. Conclusão**](#3.-Conclusão:)"
   ]
  },
  {
   "cell_type": "markdown",
   "id": "ae40ed00-0c2f-49c6-942c-6900c1eef9cd",
   "metadata": {},
   "source": [
    "# **0. Conjunto de dados**"
   ]
  },
  {
   "cell_type": "markdown",
   "id": "e16367ea-d505-4012-a3a9-f3b0ea81550c",
   "metadata": {},
   "source": [
    "O [conjunto de dados](https://raw.githubusercontent.com/rhatiro/exercicios-SQL-para-Analise-de-Dados-EBAC/main/Mo%CC%81dulo%208%20-%20Projeto%20Final/database/credito8.csv) utilizado neste projeto consiste em uma subamostra do [dataset original](https://raw.githubusercontent.com/andre-marcos-perez/ebac-course-utils/main/dataset/credito.csv) do professor [André Perez](https://www.linkedin.com/in/andremarcosperez/). É importante destacar que pode haver discrepâncias nas proporções das categorias nesta amostra parcial em relação ao conjunto de dados original. Essa subamostra foi extraída com o objetivo de facilitar o processamento dos dados para o projeto em questão. Para acessar o dataset completo, você pode visitar o repositório GitHub do professor [André Perez](https://github.com/andre-marcos-perez), disponível através do seguinte link: https://github.com/andre-marcos-perez/ebac-course-utils/blob/main/dataset/credito.csv\n",
    "\n",
    "É válido ressaltar que as estimativas baseadas nesse conjunto de dados podem apresentar menor precisão em comparação com a amostra completa. Portanto, os resultados aqui apresentados não possuem a mesma fidelidade de uma análise realizada com o dataset completo. Eles são utilizados apenas para fins didáticos do curso e para demonstração pessoal no portfólio. No entanto, todas as *queries* podem ser igualmente aplicadas ao conjunto de dados original para obter conclusões confiáveis e úteis em análises mais aprofundadas.\n",
    "\n",
    "Os dados fornecem informações sobre clientes de um banco e incluem as seguintes variáveis:"
   ]
  },
  {
   "cell_type": "markdown",
   "id": "49eeaa0f-3f65-47b5-842d-b4e66ff5d75c",
   "metadata": {},
   "source": [
    "| Coluna                   | Descrição                                               | Tipo     |\n",
    "| :----------------------- | :-----------------------------------------------------: | -------: |\n",
    "| **idade**                | idade do cliente                                        | *int*    | \n",
    "| **sexo**                 | sexo do cliente (F ou M)                                | *string* |\n",
    "| **dependentes**          | número de dependentes do cliente                        | *int*    |\n",
    "| **escolaridade**         | nível de escolaridade do clientes                       | *string* |\n",
    "| **estado_civil**         | estado civil do cliente                                 | *string* |\n",
    "| **salario_anual**        | faixa salarial do cliente                               | *string* |\n",
    "| **tipo_cartao**          | tipo de cartao do cliente                               | *string* |\n",
    "| **qtd_produtos**         | quantidade de produtos comprados nos últimos 12 meses   | *bigint* |\n",
    "| **iteracoes_12m**        | quantidade de iterações/transacoes nos ultimos 12 meses | *int*    |\n",
    "| **meses_inativo_12m**    | quantidade de meses que o cliente ficou inativo         | *int*    |\n",
    "| **limite_credito**       | limite de credito do cliente                            | *float*  |\n",
    "| **valor_transacoes_12m** | valor das transações dos ultimos 12 meses               | *float*  |\n",
    "| **qtd_transacoes_12m**   | quantidade de transacoes dos ultimos 12 meses           | *int*    |"
   ]
  },
  {
   "cell_type": "markdown",
   "id": "c4c8d526-4f84-4aa3-b037-0797abbc1f2c",
   "metadata": {},
   "source": [
    "A tabela e as *queries* em linguagem SQL foram criadas através do [Amazon Athena](https://aws.amazon.com/pt/athena/) junto com o [Amazon Simple Storage Service (Amazon S3)](https://aws.amazon.com/pt/s3/).\n",
    "\n",
    "[**Amazon Web Services**](https://aws.amazon.com/pt/), também conhecido como [**AWS**](https://aws.amazon.com/pt/), é uma plataforma de serviços de computação em nuvem, que formam uma plataforma de computação na nuvem oferecida pela Amazon.com."
   ]
  },
  {
   "cell_type": "markdown",
   "id": "3dae362d-f7db-44ed-8595-344c726ef088",
   "metadata": {},
   "source": [
    "[Voltar ao índice](#Índice)"
   ]
  },
  {
   "cell_type": "code",
   "execution_count": 1,
   "id": "bde879a8-0da5-4171-9810-14b4a26fa094",
   "metadata": {
    "jupyter": {
     "source_hidden": true
    },
    "tags": []
   },
   "outputs": [],
   "source": [
    "# Import da biblioteca pandas para visualização dos arquivos CSV resultantes das queries\n",
    "\n",
    "import pandas as pd"
   ]
  },
  {
   "cell_type": "markdown",
   "id": "87727138-5221-4483-b8ba-20d1ed8d7716",
   "metadata": {},
   "source": [
    "# **1. Criação da tabela**"
   ]
  },
  {
   "cell_type": "markdown",
   "id": "cd9f9e6a-32a7-474c-bc05-b19db3b91834",
   "metadata": {
    "tags": []
   },
   "source": [
    "A primeira etapa é a criação da tabela com o *dataset* armazenado no **Amazon S3 Bucket** por meio de uma *query* no **AWS Athena**, para posteriormente realizar as consultas."
   ]
  },
  {
   "cell_type": "markdown",
   "id": "6ea128dc-4f53-4ec0-960f-1a57c4b056a9",
   "metadata": {},
   "source": [
    "```sql\n",
    "CREATE EXTERNAL TABLE IF NOT EXISTS default.credito (\n",
    "\t`idade` int,\n",
    "\t`sexo` string,\n",
    "\t`dependentes` int,\n",
    "\t`escolaridade` string,\n",
    "\t`estado_civil` string,\n",
    "\t`salario_anual` string,\n",
    "\t`tipo_cartao` string,\n",
    "\t`qtd_produtos` bigint,\n",
    "\t`iteracoes_12m` int,\n",
    "\t`meses_inativo_12m` int,\n",
    "\t`limite_credito` float,\n",
    "\t`valor_transacoes_12m` float,\n",
    "\t`qtd_transacoes_12m` int\n",
    ")\n",
    "ROW FORMAT SERDE 'org.apache.hadoop.hive.serde2.lazy.LazySimpleSerDe'\n",
    "WITH SERDEPROPERTIES (\n",
    "\t'serialization.format' = ',',\n",
    "\t'field.delim' = ','\n",
    ")\n",
    "LOCATION 's3://bucket-transacoes-ebac-projetofinal-robertohatiro/'\n",
    "TBLPROPERTIES ('has_encrypted_data' = 'false');\n",
    "```"
   ]
  },
  {
   "cell_type": "markdown",
   "id": "9be27e2e-8df7-4816-93eb-89ae5fea6d1e",
   "metadata": {},
   "source": [
    "[Voltar ao índice](#Índice)"
   ]
  },
  {
   "cell_type": "markdown",
   "id": "89236287-1d91-475f-9661-490c59d598ce",
   "metadata": {
    "tags": []
   },
   "source": [
    "# **2. EDA (Exploratory Data Analysis)**"
   ]
  },
  {
   "cell_type": "markdown",
   "id": "c26ce6f6-5199-42e4-a302-defc681e3591",
   "metadata": {},
   "source": [
    "[Voltar ao índice](#Índice)"
   ]
  },
  {
   "cell_type": "markdown",
   "id": "6700dae3-6362-445b-970d-ed33bc12ef39",
   "metadata": {},
   "source": [
    "## 2.1 Preview da tabela"
   ]
  },
  {
   "cell_type": "markdown",
   "id": "5550aff1-7667-48a0-921a-5e66ae412e1f",
   "metadata": {},
   "source": [
    "> **Query 1:**\n",
    "\n",
    "```sql\n",
    "SELECT * FROM \"default\".\"credito\" limit 10;\n",
    "```"
   ]
  },
  {
   "cell_type": "code",
   "execution_count": 2,
   "id": "0725b5e1-3b0e-435a-82d3-ef4f5bc8490c",
   "metadata": {
    "jupyter": {
     "source_hidden": true
    },
    "tags": []
   },
   "outputs": [
    {
     "data": {
      "text/html": [
       "<div>\n",
       "<style scoped>\n",
       "    .dataframe tbody tr th:only-of-type {\n",
       "        vertical-align: middle;\n",
       "    }\n",
       "\n",
       "    .dataframe tbody tr th {\n",
       "        vertical-align: top;\n",
       "    }\n",
       "\n",
       "    .dataframe thead th {\n",
       "        text-align: right;\n",
       "    }\n",
       "</style>\n",
       "<table border=\"1\" class=\"dataframe\">\n",
       "  <thead>\n",
       "    <tr style=\"text-align: right;\">\n",
       "      <th></th>\n",
       "      <th>idade</th>\n",
       "      <th>sexo</th>\n",
       "      <th>dependentes</th>\n",
       "      <th>escolaridade</th>\n",
       "      <th>estado_civil</th>\n",
       "      <th>salario_anual</th>\n",
       "      <th>tipo_cartao</th>\n",
       "      <th>qtd_produtos</th>\n",
       "      <th>iteracoes_12m</th>\n",
       "      <th>meses_inativo_12m</th>\n",
       "      <th>limite_credito</th>\n",
       "      <th>valor_transacoes_12m</th>\n",
       "      <th>qtd_transacoes_12m</th>\n",
       "    </tr>\n",
       "  </thead>\n",
       "  <tbody>\n",
       "    <tr>\n",
       "      <th>0</th>\n",
       "      <td>45</td>\n",
       "      <td>M</td>\n",
       "      <td>3</td>\n",
       "      <td>ensino medio</td>\n",
       "      <td>casado</td>\n",
       "      <td>$60K - $80K</td>\n",
       "      <td>blue</td>\n",
       "      <td>5</td>\n",
       "      <td>3</td>\n",
       "      <td>1</td>\n",
       "      <td>12691.51</td>\n",
       "      <td>1144.90</td>\n",
       "      <td>42</td>\n",
       "    </tr>\n",
       "    <tr>\n",
       "      <th>1</th>\n",
       "      <td>49</td>\n",
       "      <td>F</td>\n",
       "      <td>5</td>\n",
       "      <td>mestrado</td>\n",
       "      <td>solteiro</td>\n",
       "      <td>menos que $40K</td>\n",
       "      <td>blue</td>\n",
       "      <td>6</td>\n",
       "      <td>2</td>\n",
       "      <td>1</td>\n",
       "      <td>8256.96</td>\n",
       "      <td>1291.45</td>\n",
       "      <td>33</td>\n",
       "    </tr>\n",
       "    <tr>\n",
       "      <th>2</th>\n",
       "      <td>51</td>\n",
       "      <td>M</td>\n",
       "      <td>3</td>\n",
       "      <td>mestrado</td>\n",
       "      <td>casado</td>\n",
       "      <td>$80K - $120K</td>\n",
       "      <td>blue</td>\n",
       "      <td>4</td>\n",
       "      <td>0</td>\n",
       "      <td>1</td>\n",
       "      <td>3418.56</td>\n",
       "      <td>1887.72</td>\n",
       "      <td>20</td>\n",
       "    </tr>\n",
       "    <tr>\n",
       "      <th>3</th>\n",
       "      <td>40</td>\n",
       "      <td>F</td>\n",
       "      <td>4</td>\n",
       "      <td>ensino medio</td>\n",
       "      <td>na</td>\n",
       "      <td>menos que $40K</td>\n",
       "      <td>blue</td>\n",
       "      <td>3</td>\n",
       "      <td>1</td>\n",
       "      <td>4</td>\n",
       "      <td>3313.03</td>\n",
       "      <td>1171.56</td>\n",
       "      <td>20</td>\n",
       "    </tr>\n",
       "    <tr>\n",
       "      <th>4</th>\n",
       "      <td>40</td>\n",
       "      <td>M</td>\n",
       "      <td>3</td>\n",
       "      <td>sem educacao formal</td>\n",
       "      <td>casado</td>\n",
       "      <td>$60K - $80K</td>\n",
       "      <td>blue</td>\n",
       "      <td>5</td>\n",
       "      <td>0</td>\n",
       "      <td>1</td>\n",
       "      <td>4716.22</td>\n",
       "      <td>816.08</td>\n",
       "      <td>28</td>\n",
       "    </tr>\n",
       "    <tr>\n",
       "      <th>5</th>\n",
       "      <td>44</td>\n",
       "      <td>M</td>\n",
       "      <td>2</td>\n",
       "      <td>mestrado</td>\n",
       "      <td>casado</td>\n",
       "      <td>$40K - $60K</td>\n",
       "      <td>blue</td>\n",
       "      <td>3</td>\n",
       "      <td>2</td>\n",
       "      <td>1</td>\n",
       "      <td>4010.69</td>\n",
       "      <td>1088.07</td>\n",
       "      <td>24</td>\n",
       "    </tr>\n",
       "    <tr>\n",
       "      <th>6</th>\n",
       "      <td>51</td>\n",
       "      <td>M</td>\n",
       "      <td>4</td>\n",
       "      <td>na</td>\n",
       "      <td>casado</td>\n",
       "      <td>$120K +</td>\n",
       "      <td>gold</td>\n",
       "      <td>6</td>\n",
       "      <td>3</td>\n",
       "      <td>1</td>\n",
       "      <td>34516.72</td>\n",
       "      <td>1330.87</td>\n",
       "      <td>31</td>\n",
       "    </tr>\n",
       "    <tr>\n",
       "      <th>7</th>\n",
       "      <td>32</td>\n",
       "      <td>M</td>\n",
       "      <td>0</td>\n",
       "      <td>ensino medio</td>\n",
       "      <td>na</td>\n",
       "      <td>$60K - $80K</td>\n",
       "      <td>silver</td>\n",
       "      <td>2</td>\n",
       "      <td>2</td>\n",
       "      <td>2</td>\n",
       "      <td>29081.49</td>\n",
       "      <td>1538.32</td>\n",
       "      <td>36</td>\n",
       "    </tr>\n",
       "    <tr>\n",
       "      <th>8</th>\n",
       "      <td>37</td>\n",
       "      <td>M</td>\n",
       "      <td>3</td>\n",
       "      <td>sem educacao formal</td>\n",
       "      <td>solteiro</td>\n",
       "      <td>$60K - $80K</td>\n",
       "      <td>blue</td>\n",
       "      <td>5</td>\n",
       "      <td>0</td>\n",
       "      <td>2</td>\n",
       "      <td>22352.50</td>\n",
       "      <td>1350.14</td>\n",
       "      <td>24</td>\n",
       "    </tr>\n",
       "    <tr>\n",
       "      <th>9</th>\n",
       "      <td>48</td>\n",
       "      <td>M</td>\n",
       "      <td>2</td>\n",
       "      <td>mestrado</td>\n",
       "      <td>solteiro</td>\n",
       "      <td>$80K - $120K</td>\n",
       "      <td>blue</td>\n",
       "      <td>6</td>\n",
       "      <td>3</td>\n",
       "      <td>3</td>\n",
       "      <td>11656.41</td>\n",
       "      <td>1441.73</td>\n",
       "      <td>32</td>\n",
       "    </tr>\n",
       "  </tbody>\n",
       "</table>\n",
       "</div>"
      ],
      "text/plain": [
       "   idade sexo  dependentes         escolaridade estado_civil   salario_anual  \\\n",
       "0     45    M            3         ensino medio       casado     $60K - $80K   \n",
       "1     49    F            5             mestrado     solteiro  menos que $40K   \n",
       "2     51    M            3             mestrado       casado    $80K - $120K   \n",
       "3     40    F            4         ensino medio           na  menos que $40K   \n",
       "4     40    M            3  sem educacao formal       casado     $60K - $80K   \n",
       "5     44    M            2             mestrado       casado     $40K - $60K   \n",
       "6     51    M            4                   na       casado         $120K +   \n",
       "7     32    M            0         ensino medio           na     $60K - $80K   \n",
       "8     37    M            3  sem educacao formal     solteiro     $60K - $80K   \n",
       "9     48    M            2             mestrado     solteiro    $80K - $120K   \n",
       "\n",
       "  tipo_cartao  qtd_produtos  iteracoes_12m  meses_inativo_12m  limite_credito  \\\n",
       "0        blue             5              3                  1        12691.51   \n",
       "1        blue             6              2                  1         8256.96   \n",
       "2        blue             4              0                  1         3418.56   \n",
       "3        blue             3              1                  4         3313.03   \n",
       "4        blue             5              0                  1         4716.22   \n",
       "5        blue             3              2                  1         4010.69   \n",
       "6        gold             6              3                  1        34516.72   \n",
       "7      silver             2              2                  2        29081.49   \n",
       "8        blue             5              0                  2        22352.50   \n",
       "9        blue             6              3                  3        11656.41   \n",
       "\n",
       "   valor_transacoes_12m  qtd_transacoes_12m  \n",
       "0               1144.90                  42  \n",
       "1               1291.45                  33  \n",
       "2               1887.72                  20  \n",
       "3               1171.56                  20  \n",
       "4                816.08                  28  \n",
       "5               1088.07                  24  \n",
       "6               1330.87                  31  \n",
       "7               1538.32                  36  \n",
       "8               1350.14                  24  \n",
       "9               1441.73                  32  "
      ]
     },
     "execution_count": 2,
     "metadata": {},
     "output_type": "execute_result"
    }
   ],
   "source": [
    "pd.read_csv('https://raw.githubusercontent.com/rhatiro/exercicios-SQL-para-Analise-de-Dados-EBAC/main/Mo%CC%81dulo%208%20-%20Projeto%20Final/database/output/query01.csv')"
   ]
  },
  {
   "cell_type": "markdown",
   "id": "7e413e94-9ffe-4ab4-a458-7bc3580fccb1",
   "metadata": {},
   "source": [
    "[Voltar ao índice](#Índice)"
   ]
  },
  {
   "cell_type": "markdown",
   "id": "8054473e-a638-4cad-9750-ef01238ae475",
   "metadata": {},
   "source": [
    "## 2.2 Quantidade de linhas no dataset"
   ]
  },
  {
   "cell_type": "markdown",
   "id": "b00b546b-d2bb-49c0-ae10-1e7e4627fc6e",
   "metadata": {},
   "source": [
    "> **Query 2:**\n",
    "\n",
    "```sql\n",
    "SELECT COUNT(*) AS quantidade_linhas\n",
    "FROM credito;\n",
    "```"
   ]
  },
  {
   "cell_type": "code",
   "execution_count": 3,
   "id": "a1066230-c690-4092-9d74-505dfe33ba2b",
   "metadata": {
    "jupyter": {
     "source_hidden": true
    },
    "tags": []
   },
   "outputs": [
    {
     "data": {
      "text/html": [
       "<div>\n",
       "<style scoped>\n",
       "    .dataframe tbody tr th:only-of-type {\n",
       "        vertical-align: middle;\n",
       "    }\n",
       "\n",
       "    .dataframe tbody tr th {\n",
       "        vertical-align: top;\n",
       "    }\n",
       "\n",
       "    .dataframe thead th {\n",
       "        text-align: right;\n",
       "    }\n",
       "</style>\n",
       "<table border=\"1\" class=\"dataframe\">\n",
       "  <thead>\n",
       "    <tr style=\"text-align: right;\">\n",
       "      <th></th>\n",
       "      <th>quantidade_linhas</th>\n",
       "    </tr>\n",
       "  </thead>\n",
       "  <tbody>\n",
       "    <tr>\n",
       "      <th>0</th>\n",
       "      <td>2564</td>\n",
       "    </tr>\n",
       "  </tbody>\n",
       "</table>\n",
       "</div>"
      ],
      "text/plain": [
       "   quantidade_linhas\n",
       "0               2564"
      ]
     },
     "execution_count": 3,
     "metadata": {},
     "output_type": "execute_result"
    }
   ],
   "source": [
    "pd.read_csv('https://raw.githubusercontent.com/rhatiro/exercicios-SQL-para-Analise-de-Dados-EBAC/main/Mo%CC%81dulo%208%20-%20Projeto%20Final/database/output/query02.csv')"
   ]
  },
  {
   "cell_type": "markdown",
   "id": "6170c885-2b4f-4e05-9251-74cd450efb6f",
   "metadata": {},
   "source": [
    "O conjunto de dados completo possui 10.127 linhas, enquanto esta amostra contém 2.564 linhas, representando aproximadamente 25% do dataset original."
   ]
  },
  {
   "cell_type": "markdown",
   "id": "1d9bf457-1871-44f1-b34e-786650e3fee5",
   "metadata": {},
   "source": [
    "[Voltar ao índice](#Índice)"
   ]
  },
  {
   "cell_type": "markdown",
   "id": "43728dcc-a717-4dd7-ab5c-8f2405ae0723",
   "metadata": {},
   "source": [
    "## 2.3 Tipos de dados em cada coluna"
   ]
  },
  {
   "cell_type": "markdown",
   "id": "860468d5-727c-4467-9eb8-86396a88fd5c",
   "metadata": {},
   "source": [
    "> **Query 3:**\n",
    "\n",
    "```sql\n",
    "DESCRIBE credito;\n",
    "```\n",
    "\n",
    "![query03](https://raw.githubusercontent.com/rhatiro/exercicios-SQL-para-Analise-de-Dados-EBAC/main/Mo%CC%81dulo%208%20-%20Projeto%20Final/img/query03.png)"
   ]
  },
  {
   "cell_type": "markdown",
   "id": "ad82a10e-60fa-412f-91b8-7839459ae085",
   "metadata": {},
   "source": [
    "> Os tipos dos dados no *dataset* podem ser descritos como:\n",
    "> - `int` representa dados do tipo inteiro (numérico);\n",
    "> - `string` representa dados do tipo texto ou cadeia de caracteres;\n",
    "> - `bigint` representa dados do tipo inteiro longo (um número inteiro maior do que o tipo int);\n",
    "> - `float` representa dados do tipo número de ponto flutuante (um número com parte fracionária)."
   ]
  },
  {
   "cell_type": "markdown",
   "id": "0c7408d1-b218-4269-b1b9-1791590ed23a",
   "metadata": {},
   "source": [
    "[Voltar ao índice](#Índice)"
   ]
  },
  {
   "cell_type": "markdown",
   "id": "258071ea-f2c8-415b-9b94-625f67745048",
   "metadata": {},
   "source": [
    "## 2.4.1 Categorias da variável `escolaridade`"
   ]
  },
  {
   "cell_type": "markdown",
   "id": "3bc1048c-4349-43ff-b983-711168c6d9c8",
   "metadata": {},
   "source": [
    "> **Query 4:**\n",
    "\n",
    "```sql\n",
    "SELECT DISTINCT escolaridade\n",
    "FROM credito;\n",
    "```"
   ]
  },
  {
   "cell_type": "code",
   "execution_count": 4,
   "id": "bc90699e-1f6e-4220-ab0c-157dbdca36b3",
   "metadata": {
    "jupyter": {
     "source_hidden": true
    },
    "tags": []
   },
   "outputs": [
    {
     "data": {
      "text/html": [
       "<div>\n",
       "<style scoped>\n",
       "    .dataframe tbody tr th:only-of-type {\n",
       "        vertical-align: middle;\n",
       "    }\n",
       "\n",
       "    .dataframe tbody tr th {\n",
       "        vertical-align: top;\n",
       "    }\n",
       "\n",
       "    .dataframe thead th {\n",
       "        text-align: right;\n",
       "    }\n",
       "</style>\n",
       "<table border=\"1\" class=\"dataframe\">\n",
       "  <thead>\n",
       "    <tr style=\"text-align: right;\">\n",
       "      <th></th>\n",
       "      <th>escolaridade</th>\n",
       "    </tr>\n",
       "  </thead>\n",
       "  <tbody>\n",
       "    <tr>\n",
       "      <th>0</th>\n",
       "      <td>na</td>\n",
       "    </tr>\n",
       "    <tr>\n",
       "      <th>1</th>\n",
       "      <td>sem educacao formal</td>\n",
       "    </tr>\n",
       "    <tr>\n",
       "      <th>2</th>\n",
       "      <td>ensino medio</td>\n",
       "    </tr>\n",
       "    <tr>\n",
       "      <th>3</th>\n",
       "      <td>mestrado</td>\n",
       "    </tr>\n",
       "    <tr>\n",
       "      <th>4</th>\n",
       "      <td>graduacao</td>\n",
       "    </tr>\n",
       "    <tr>\n",
       "      <th>5</th>\n",
       "      <td>doutorado</td>\n",
       "    </tr>\n",
       "  </tbody>\n",
       "</table>\n",
       "</div>"
      ],
      "text/plain": [
       "          escolaridade\n",
       "0                   na\n",
       "1  sem educacao formal\n",
       "2         ensino medio\n",
       "3             mestrado\n",
       "4            graduacao\n",
       "5            doutorado"
      ]
     },
     "execution_count": 4,
     "metadata": {},
     "output_type": "execute_result"
    }
   ],
   "source": [
    "pd.read_csv('https://raw.githubusercontent.com/rhatiro/exercicios-SQL-para-Analise-de-Dados-EBAC/main/Mo%CC%81dulo%208%20-%20Projeto%20Final/database/output/query04.csv')"
   ]
  },
  {
   "cell_type": "markdown",
   "id": "3b6b26be-11ed-4c89-b4b6-3072a03e8403",
   "metadata": {},
   "source": [
    "> Podemos notar que há valores **nulos/ausentes** na variável categórica `escolaridade`, representados pelo valor **`na`**."
   ]
  },
  {
   "cell_type": "markdown",
   "id": "86d13367-e974-4f20-b010-b7f9b0c0188a",
   "metadata": {},
   "source": [
    "[Voltar ao índice](#Índice)"
   ]
  },
  {
   "cell_type": "markdown",
   "id": "528e45bf-c650-483b-8937-c388591ec528",
   "metadata": {},
   "source": [
    "## 2.4.2 Categorias da variável `estado_civil`"
   ]
  },
  {
   "cell_type": "markdown",
   "id": "de06929f-0f41-466f-a3c7-27579a941c8f",
   "metadata": {},
   "source": [
    "> **Query 5:**\n",
    "\n",
    "```sql\n",
    "SELECT DISTINCT estado_civil\n",
    "FROM credito;\n",
    "```"
   ]
  },
  {
   "cell_type": "code",
   "execution_count": 5,
   "id": "be5461fa-8b63-433b-84bc-e2784028033d",
   "metadata": {
    "jupyter": {
     "source_hidden": true
    },
    "tags": []
   },
   "outputs": [
    {
     "data": {
      "text/html": [
       "<div>\n",
       "<style scoped>\n",
       "    .dataframe tbody tr th:only-of-type {\n",
       "        vertical-align: middle;\n",
       "    }\n",
       "\n",
       "    .dataframe tbody tr th {\n",
       "        vertical-align: top;\n",
       "    }\n",
       "\n",
       "    .dataframe thead th {\n",
       "        text-align: right;\n",
       "    }\n",
       "</style>\n",
       "<table border=\"1\" class=\"dataframe\">\n",
       "  <thead>\n",
       "    <tr style=\"text-align: right;\">\n",
       "      <th></th>\n",
       "      <th>estado_civil</th>\n",
       "    </tr>\n",
       "  </thead>\n",
       "  <tbody>\n",
       "    <tr>\n",
       "      <th>0</th>\n",
       "      <td>divorciado</td>\n",
       "    </tr>\n",
       "    <tr>\n",
       "      <th>1</th>\n",
       "      <td>na</td>\n",
       "    </tr>\n",
       "    <tr>\n",
       "      <th>2</th>\n",
       "      <td>casado</td>\n",
       "    </tr>\n",
       "    <tr>\n",
       "      <th>3</th>\n",
       "      <td>solteiro</td>\n",
       "    </tr>\n",
       "  </tbody>\n",
       "</table>\n",
       "</div>"
      ],
      "text/plain": [
       "  estado_civil\n",
       "0   divorciado\n",
       "1           na\n",
       "2       casado\n",
       "3     solteiro"
      ]
     },
     "execution_count": 5,
     "metadata": {},
     "output_type": "execute_result"
    }
   ],
   "source": [
    "pd.read_csv('https://raw.githubusercontent.com/rhatiro/exercicios-SQL-para-Analise-de-Dados-EBAC/main/Mo%CC%81dulo%208%20-%20Projeto%20Final/database/output/query05.csv')"
   ]
  },
  {
   "cell_type": "markdown",
   "id": "b101c3d1-5082-4b4c-a541-ec2871cf1038",
   "metadata": {},
   "source": [
    "> Também podemos notar a presença de valores nulos na variável categórica `estado_civil`."
   ]
  },
  {
   "cell_type": "markdown",
   "id": "82c97a88-ab1c-4995-8e66-6f163f4e3435",
   "metadata": {},
   "source": [
    "[Voltar ao índice](#Índice)"
   ]
  },
  {
   "cell_type": "markdown",
   "id": "10f2623b-9ce8-410a-beb7-0da0dc301511",
   "metadata": {},
   "source": [
    "## 2.4.3 Categorias da variável `sexo`"
   ]
  },
  {
   "cell_type": "markdown",
   "id": "2f2628f0-d459-4fca-806b-b8739d709a44",
   "metadata": {},
   "source": [
    "> **Query 6:**\n",
    "\n",
    "```sql\n",
    "SELECT DISTINCT sexo\n",
    "FROM credito;\n",
    "```"
   ]
  },
  {
   "cell_type": "code",
   "execution_count": 6,
   "id": "63b69d9e-2c2d-4a6c-8323-f9d98201d2ad",
   "metadata": {
    "jupyter": {
     "source_hidden": true
    },
    "tags": []
   },
   "outputs": [
    {
     "data": {
      "text/html": [
       "<div>\n",
       "<style scoped>\n",
       "    .dataframe tbody tr th:only-of-type {\n",
       "        vertical-align: middle;\n",
       "    }\n",
       "\n",
       "    .dataframe tbody tr th {\n",
       "        vertical-align: top;\n",
       "    }\n",
       "\n",
       "    .dataframe thead th {\n",
       "        text-align: right;\n",
       "    }\n",
       "</style>\n",
       "<table border=\"1\" class=\"dataframe\">\n",
       "  <thead>\n",
       "    <tr style=\"text-align: right;\">\n",
       "      <th></th>\n",
       "      <th>sexo</th>\n",
       "    </tr>\n",
       "  </thead>\n",
       "  <tbody>\n",
       "    <tr>\n",
       "      <th>0</th>\n",
       "      <td>F</td>\n",
       "    </tr>\n",
       "    <tr>\n",
       "      <th>1</th>\n",
       "      <td>M</td>\n",
       "    </tr>\n",
       "  </tbody>\n",
       "</table>\n",
       "</div>"
      ],
      "text/plain": [
       "  sexo\n",
       "0    F\n",
       "1    M"
      ]
     },
     "execution_count": 6,
     "metadata": {},
     "output_type": "execute_result"
    }
   ],
   "source": [
    "pd.read_csv('https://raw.githubusercontent.com/rhatiro/exercicios-SQL-para-Analise-de-Dados-EBAC/main/Mo%CC%81dulo%208%20-%20Projeto%20Final/database/output/query06.csv')"
   ]
  },
  {
   "cell_type": "markdown",
   "id": "32d33d5a-f072-401a-b29b-cb9c44a22c5b",
   "metadata": {},
   "source": [
    "> Diferente das demais colunas, não há valores nulos na variável categórica `sexo`."
   ]
  },
  {
   "cell_type": "markdown",
   "id": "114ee03d-9dda-4c73-98aa-484ac2699551",
   "metadata": {},
   "source": [
    "[Voltar ao índice](#Índice)"
   ]
  },
  {
   "cell_type": "markdown",
   "id": "bba9309e-18ab-409a-945d-b2a0cccc3014",
   "metadata": {},
   "source": [
    "## 2.5.1 Quantidade de clientes em cada faixa salarial"
   ]
  },
  {
   "cell_type": "markdown",
   "id": "392d2f94-854e-4744-b951-6d89d988daed",
   "metadata": {},
   "source": [
    "> **Query 7:**\n",
    "\n",
    "```sql\n",
    "SELECT salario_anual,\n",
    "\tCOUNT(*) AS quantidade\n",
    "FROM credito\n",
    "GROUP BY salario_anual\n",
    "ORDER BY CASE\n",
    "\t\tsalario_anual\n",
    "\t\tWHEN 'menos que $40K' THEN 1\n",
    "\t\tWHEN '$40K - $60K' THEN 2\n",
    "\t\tWHEN '$60K - $80K' THEN 3\n",
    "\t\tWHEN '$80K - $120K' THEN 4\n",
    "\t\tWHEN '$120K +' THEN 5 ELSE 6\n",
    "\tEND;\n",
    "```"
   ]
  },
  {
   "cell_type": "code",
   "execution_count": 7,
   "id": "2866d336-ce67-43f2-943e-e6f87aaf2c52",
   "metadata": {
    "tags": []
   },
   "outputs": [
    {
     "data": {
      "text/html": [
       "<div>\n",
       "<style scoped>\n",
       "    .dataframe tbody tr th:only-of-type {\n",
       "        vertical-align: middle;\n",
       "    }\n",
       "\n",
       "    .dataframe tbody tr th {\n",
       "        vertical-align: top;\n",
       "    }\n",
       "\n",
       "    .dataframe thead th {\n",
       "        text-align: right;\n",
       "    }\n",
       "</style>\n",
       "<table border=\"1\" class=\"dataframe\">\n",
       "  <thead>\n",
       "    <tr style=\"text-align: right;\">\n",
       "      <th></th>\n",
       "      <th>salario_anual</th>\n",
       "      <th>quantidade</th>\n",
       "    </tr>\n",
       "  </thead>\n",
       "  <tbody>\n",
       "    <tr>\n",
       "      <th>0</th>\n",
       "      <td>menos que $40K</td>\n",
       "      <td>701</td>\n",
       "    </tr>\n",
       "    <tr>\n",
       "      <th>1</th>\n",
       "      <td>$40K - $60K</td>\n",
       "      <td>467</td>\n",
       "    </tr>\n",
       "    <tr>\n",
       "      <th>2</th>\n",
       "      <td>$60K - $80K</td>\n",
       "      <td>451</td>\n",
       "    </tr>\n",
       "    <tr>\n",
       "      <th>3</th>\n",
       "      <td>$80K - $120K</td>\n",
       "      <td>488</td>\n",
       "    </tr>\n",
       "    <tr>\n",
       "      <th>4</th>\n",
       "      <td>$120K +</td>\n",
       "      <td>222</td>\n",
       "    </tr>\n",
       "    <tr>\n",
       "      <th>5</th>\n",
       "      <td>na</td>\n",
       "      <td>235</td>\n",
       "    </tr>\n",
       "  </tbody>\n",
       "</table>\n",
       "</div>"
      ],
      "text/plain": [
       "    salario_anual  quantidade\n",
       "0  menos que $40K         701\n",
       "1     $40K - $60K         467\n",
       "2     $60K - $80K         451\n",
       "3    $80K - $120K         488\n",
       "4         $120K +         222\n",
       "5              na         235"
      ]
     },
     "execution_count": 7,
     "metadata": {},
     "output_type": "execute_result"
    }
   ],
   "source": [
    "pd.read_csv('https://raw.githubusercontent.com/rhatiro/exercicios-SQL-para-Analise-de-Dados-EBAC/main/Mo%CC%81dulo%208%20-%20Projeto%20Final/database/output/query07.csv')"
   ]
  },
  {
   "cell_type": "markdown",
   "id": "ed36ab6d-7406-431e-ac3d-2d51b57fa000",
   "metadata": {},
   "source": [
    "![query07.png](https://raw.githubusercontent.com/rhatiro/exercicios-SQL-para-Analise-de-Dados-EBAC/main/Mo%CC%81dulo%208%20-%20Projeto%20Final/img/query07.png)\n",
    "\n",
    "> Ao desconsiderar a presença dos 235 valores nulos na variável `salario_anual`, podemos observar que a maioria dos clientes recebem anualmente a quantia abaixo de \\\\$40.000,00 e a minoria acima de \\\\$120.000,00."
   ]
  },
  {
   "cell_type": "markdown",
   "id": "aa7fc273-7f95-4980-9c61-6fb94e30ecd9",
   "metadata": {},
   "source": [
    "[Voltar ao índice](#Índice)"
   ]
  },
  {
   "cell_type": "markdown",
   "id": "f654c1ec-9814-4d04-b32a-14bb81c64340",
   "metadata": {},
   "source": [
    "## 2.5.2 Quantidade de clientes de acordo com cada tipo de cartão"
   ]
  },
  {
   "cell_type": "markdown",
   "id": "056711a8-9894-4afc-acda-4466211edb2a",
   "metadata": {},
   "source": [
    "> **Query 8:**\n",
    "\n",
    "```sql\n",
    "SELECT tipo_cartao,\n",
    "\tCOUNT(*) AS quantidade\n",
    "FROM credito\n",
    "GROUP BY tipo_cartao\n",
    "ORDER BY quantidade DESC;\n",
    "```"
   ]
  },
  {
   "cell_type": "code",
   "execution_count": 8,
   "id": "ab984349-e660-4ccc-b128-291c7cd01f43",
   "metadata": {
    "jupyter": {
     "source_hidden": true
    },
    "tags": []
   },
   "outputs": [
    {
     "data": {
      "text/html": [
       "<div>\n",
       "<style scoped>\n",
       "    .dataframe tbody tr th:only-of-type {\n",
       "        vertical-align: middle;\n",
       "    }\n",
       "\n",
       "    .dataframe tbody tr th {\n",
       "        vertical-align: top;\n",
       "    }\n",
       "\n",
       "    .dataframe thead th {\n",
       "        text-align: right;\n",
       "    }\n",
       "</style>\n",
       "<table border=\"1\" class=\"dataframe\">\n",
       "  <thead>\n",
       "    <tr style=\"text-align: right;\">\n",
       "      <th></th>\n",
       "      <th>tipo_cartao</th>\n",
       "      <th>quantidade</th>\n",
       "    </tr>\n",
       "  </thead>\n",
       "  <tbody>\n",
       "    <tr>\n",
       "      <th>0</th>\n",
       "      <td>blue</td>\n",
       "      <td>2453</td>\n",
       "    </tr>\n",
       "    <tr>\n",
       "      <th>1</th>\n",
       "      <td>silver</td>\n",
       "      <td>93</td>\n",
       "    </tr>\n",
       "    <tr>\n",
       "      <th>2</th>\n",
       "      <td>gold</td>\n",
       "      <td>16</td>\n",
       "    </tr>\n",
       "    <tr>\n",
       "      <th>3</th>\n",
       "      <td>platinum</td>\n",
       "      <td>2</td>\n",
       "    </tr>\n",
       "  </tbody>\n",
       "</table>\n",
       "</div>"
      ],
      "text/plain": [
       "  tipo_cartao  quantidade\n",
       "0        blue        2453\n",
       "1      silver          93\n",
       "2        gold          16\n",
       "3    platinum           2"
      ]
     },
     "execution_count": 8,
     "metadata": {},
     "output_type": "execute_result"
    }
   ],
   "source": [
    "pd.read_csv('https://raw.githubusercontent.com/rhatiro/exercicios-SQL-para-Analise-de-Dados-EBAC/main/Mo%CC%81dulo%208%20-%20Projeto%20Final/database/output/query08.csv')"
   ]
  },
  {
   "cell_type": "markdown",
   "id": "fd693ea1-828f-48c7-97ba-43f99498a6c4",
   "metadata": {},
   "source": [
    "![query08.png](https://raw.githubusercontent.com/rhatiro/exercicios-SQL-para-Analise-de-Dados-EBAC/main/Mo%CC%81dulo%208%20-%20Projeto%20Final/img/query08.png)\n",
    "\n",
    "> A maioria possui o tipo de cartão *blue*, dando a entender que supostamente façam parte dos clientes com faixa de salário anual de menor valor."
   ]
  },
  {
   "cell_type": "markdown",
   "id": "3a7f8c61-9bb6-42ba-8a47-4f1f7ba3fc2c",
   "metadata": {},
   "source": [
    "[Voltar ao índice](#Índice)"
   ]
  },
  {
   "cell_type": "markdown",
   "id": "e9b4089e-3be9-4742-9af6-cb07c58e8a0b",
   "metadata": {},
   "source": [
    "## 2.5.3 Quantidade de clientes de acordo com o sexo"
   ]
  },
  {
   "cell_type": "markdown",
   "id": "6a1d430c-809d-4ef4-9093-d9e231d86d7f",
   "metadata": {},
   "source": [
    "> **Query 9:**\n",
    "\n",
    "```sql\n",
    "SELECT sexo,\n",
    "\tCOUNT(*) AS quantidade\n",
    "FROM credito\n",
    "GROUP BY sexo\n",
    "ORDER BY quantidade DESC;\n",
    "```"
   ]
  },
  {
   "cell_type": "code",
   "execution_count": 9,
   "id": "e9f5031d-623d-470e-a42d-6b048de9df62",
   "metadata": {
    "tags": []
   },
   "outputs": [
    {
     "data": {
      "text/html": [
       "<div>\n",
       "<style scoped>\n",
       "    .dataframe tbody tr th:only-of-type {\n",
       "        vertical-align: middle;\n",
       "    }\n",
       "\n",
       "    .dataframe tbody tr th {\n",
       "        vertical-align: top;\n",
       "    }\n",
       "\n",
       "    .dataframe thead th {\n",
       "        text-align: right;\n",
       "    }\n",
       "</style>\n",
       "<table border=\"1\" class=\"dataframe\">\n",
       "  <thead>\n",
       "    <tr style=\"text-align: right;\">\n",
       "      <th></th>\n",
       "      <th>sexo</th>\n",
       "      <th>quantidade</th>\n",
       "    </tr>\n",
       "  </thead>\n",
       "  <tbody>\n",
       "    <tr>\n",
       "      <th>0</th>\n",
       "      <td>M</td>\n",
       "      <td>1563</td>\n",
       "    </tr>\n",
       "    <tr>\n",
       "      <th>1</th>\n",
       "      <td>F</td>\n",
       "      <td>1001</td>\n",
       "    </tr>\n",
       "  </tbody>\n",
       "</table>\n",
       "</div>"
      ],
      "text/plain": [
       "  sexo  quantidade\n",
       "0    M        1563\n",
       "1    F        1001"
      ]
     },
     "execution_count": 9,
     "metadata": {},
     "output_type": "execute_result"
    }
   ],
   "source": [
    "pd.read_csv('https://raw.githubusercontent.com/rhatiro/exercicios-SQL-para-Analise-de-Dados-EBAC/main/Mo%CC%81dulo%208%20-%20Projeto%20Final/database/output/query09.csv')"
   ]
  },
  {
   "cell_type": "markdown",
   "id": "6f57602a-4ccb-4ebf-8ccd-5e9e5a8af132",
   "metadata": {},
   "source": [
    "![query09.png](https://raw.githubusercontent.com/rhatiro/exercicios-SQL-para-Analise-de-Dados-EBAC/main/Mo%CC%81dulo%208%20-%20Projeto%20Final/img/query09.png)\n",
    "\n",
    "> Neste conjunto de dados, a proporção de clientes do sexo masculino e feminino não está equilibrada. Portanto é algo que deve ser levado em consideração ao relacionar esta variável com as demais."
   ]
  },
  {
   "cell_type": "markdown",
   "id": "95af829a-f974-43d2-bd76-9145dbe94515",
   "metadata": {},
   "source": [
    "[Voltar ao índice](#Índice)"
   ]
  },
  {
   "cell_type": "markdown",
   "id": "04609c60-ffb9-4ca6-aade-35b9dba963d0",
   "metadata": {},
   "source": [
    "## 2.6.1 Análise da idade dos clientes (média, mínima e máxima)"
   ]
  },
  {
   "cell_type": "markdown",
   "id": "a13e622d-f04e-4622-9631-5aaef5ec11ab",
   "metadata": {},
   "source": [
    "> **Query 10:**\n",
    "\n",
    "```sql\n",
    "SELECT ROUND(AVG(idade)) AS idade_media,\n",
    "\tMIN(idade) AS idade_minima,\n",
    "\tMAX(idade) AS idade_maxima\n",
    "FROM credito;\n",
    "```"
   ]
  },
  {
   "cell_type": "code",
   "execution_count": 10,
   "id": "f93030a7-6ad8-47bb-b634-c6b8ad8bec13",
   "metadata": {
    "jupyter": {
     "source_hidden": true
    },
    "tags": []
   },
   "outputs": [
    {
     "data": {
      "text/html": [
       "<div>\n",
       "<style scoped>\n",
       "    .dataframe tbody tr th:only-of-type {\n",
       "        vertical-align: middle;\n",
       "    }\n",
       "\n",
       "    .dataframe tbody tr th {\n",
       "        vertical-align: top;\n",
       "    }\n",
       "\n",
       "    .dataframe thead th {\n",
       "        text-align: right;\n",
       "    }\n",
       "</style>\n",
       "<table border=\"1\" class=\"dataframe\">\n",
       "  <thead>\n",
       "    <tr style=\"text-align: right;\">\n",
       "      <th></th>\n",
       "      <th>idade_media</th>\n",
       "      <th>idade_minima</th>\n",
       "      <th>idade_maxima</th>\n",
       "    </tr>\n",
       "  </thead>\n",
       "  <tbody>\n",
       "    <tr>\n",
       "      <th>0</th>\n",
       "      <td>46.0</td>\n",
       "      <td>26</td>\n",
       "      <td>73</td>\n",
       "    </tr>\n",
       "  </tbody>\n",
       "</table>\n",
       "</div>"
      ],
      "text/plain": [
       "   idade_media  idade_minima  idade_maxima\n",
       "0         46.0            26            73"
      ]
     },
     "execution_count": 10,
     "metadata": {},
     "output_type": "execute_result"
    }
   ],
   "source": [
    "pd.read_csv('https://raw.githubusercontent.com/rhatiro/exercicios-SQL-para-Analise-de-Dados-EBAC/main/Mo%CC%81dulo%208%20-%20Projeto%20Final/database/output/query10.csv')"
   ]
  },
  {
   "cell_type": "markdown",
   "id": "32f86a55-bed7-4b53-8375-6c7b350f12da",
   "metadata": {},
   "source": [
    "## 2.6.2 Análise dos gastos dos clientes (média, mínima e máxima)"
   ]
  },
  {
   "cell_type": "markdown",
   "id": "693461bf-c5b2-4057-b3e9-e1435218a746",
   "metadata": {},
   "source": [
    "> **Query 11:**\n",
    "\n",
    "```sql\n",
    "SELECT ROUND(AVG(valor_transacoes_12m), 2) AS valor_medio_transacoes,\n",
    "\tMIN(valor_transacoes_12m) AS valor_minimo_transacoes,\n",
    "\tMAX(valor_transacoes_12m) AS valor_maximo_transacoes\n",
    "FROM credito;\n",
    "```"
   ]
  },
  {
   "cell_type": "code",
   "execution_count": 11,
   "id": "9f3d53be-5c12-4fcc-ba78-5ce8a4208f06",
   "metadata": {
    "jupyter": {
     "source_hidden": true
    },
    "tags": []
   },
   "outputs": [
    {
     "data": {
      "text/html": [
       "<div>\n",
       "<style scoped>\n",
       "    .dataframe tbody tr th:only-of-type {\n",
       "        vertical-align: middle;\n",
       "    }\n",
       "\n",
       "    .dataframe tbody tr th {\n",
       "        vertical-align: top;\n",
       "    }\n",
       "\n",
       "    .dataframe thead th {\n",
       "        text-align: right;\n",
       "    }\n",
       "</style>\n",
       "<table border=\"1\" class=\"dataframe\">\n",
       "  <thead>\n",
       "    <tr style=\"text-align: right;\">\n",
       "      <th></th>\n",
       "      <th>valor_medio_transacoes</th>\n",
       "      <th>valor_minimo_transacoes</th>\n",
       "      <th>valor_maximo_transacoes</th>\n",
       "    </tr>\n",
       "  </thead>\n",
       "  <tbody>\n",
       "    <tr>\n",
       "      <th>0</th>\n",
       "      <td>1820.33</td>\n",
       "      <td>510.16</td>\n",
       "      <td>4776.58</td>\n",
       "    </tr>\n",
       "  </tbody>\n",
       "</table>\n",
       "</div>"
      ],
      "text/plain": [
       "   valor_medio_transacoes  valor_minimo_transacoes  valor_maximo_transacoes\n",
       "0                 1820.33                   510.16                  4776.58"
      ]
     },
     "execution_count": 11,
     "metadata": {},
     "output_type": "execute_result"
    }
   ],
   "source": [
    "pd.read_csv('https://raw.githubusercontent.com/rhatiro/exercicios-SQL-para-Analise-de-Dados-EBAC/main/Mo%CC%81dulo%208%20-%20Projeto%20Final/database/output/query11.csv')"
   ]
  },
  {
   "cell_type": "markdown",
   "id": "19ba7bb0-86cd-4804-be99-7d3c925c08ed",
   "metadata": {},
   "source": [
    "[Voltar ao índice](#Índice)"
   ]
  },
  {
   "cell_type": "markdown",
   "id": "c267c3bf-0417-4c89-8a12-8420c30329cf",
   "metadata": {
    "tags": []
   },
   "source": [
    "## 2.7.1 Limite mínimo de crédito de acordo com o tipo de cartão, sexo e escolaridade"
   ]
  },
  {
   "cell_type": "markdown",
   "id": "885b24b4-68a7-4700-a294-88e6c1b45e52",
   "metadata": {},
   "source": [
    "> **Query 12:**\n",
    "\n",
    "```sql\n",
    "SELECT COUNT(*) as quantidade,\n",
    "\tMIN(limite_credito) AS limite_credito_maximo,\n",
    "\ttipo_cartao,\n",
    "\tsexo,\n",
    "\tescolaridade\n",
    "FROM credito\n",
    "WHERE escolaridade != 'na'\n",
    "GROUP BY sexo,\n",
    "\tescolaridade,\n",
    "\ttipo_cartao\n",
    "ORDER BY limite_credito_maximo ASC;\n",
    "```"
   ]
  },
  {
   "cell_type": "code",
   "execution_count": 12,
   "id": "8ff0e6ae-baa3-4f7f-9bef-99065be5461b",
   "metadata": {
    "jupyter": {
     "source_hidden": true
    },
    "tags": []
   },
   "outputs": [
    {
     "data": {
      "text/html": [
       "<div>\n",
       "<style scoped>\n",
       "    .dataframe tbody tr th:only-of-type {\n",
       "        vertical-align: middle;\n",
       "    }\n",
       "\n",
       "    .dataframe tbody tr th {\n",
       "        vertical-align: top;\n",
       "    }\n",
       "\n",
       "    .dataframe thead th {\n",
       "        text-align: right;\n",
       "    }\n",
       "</style>\n",
       "<table border=\"1\" class=\"dataframe\">\n",
       "  <thead>\n",
       "    <tr style=\"text-align: right;\">\n",
       "      <th></th>\n",
       "      <th>quantidade</th>\n",
       "      <th>limite_credito_minimo</th>\n",
       "      <th>tipo_cartao</th>\n",
       "      <th>sexo</th>\n",
       "      <th>escolaridade</th>\n",
       "    </tr>\n",
       "  </thead>\n",
       "  <tbody>\n",
       "    <tr>\n",
       "      <th>0</th>\n",
       "      <td>91</td>\n",
       "      <td>1438.03</td>\n",
       "      <td>blue</td>\n",
       "      <td>F</td>\n",
       "      <td>graduacao</td>\n",
       "    </tr>\n",
       "    <tr>\n",
       "      <th>1</th>\n",
       "      <td>92</td>\n",
       "      <td>1438.04</td>\n",
       "      <td>blue</td>\n",
       "      <td>F</td>\n",
       "      <td>doutorado</td>\n",
       "    </tr>\n",
       "    <tr>\n",
       "      <th>2</th>\n",
       "      <td>133</td>\n",
       "      <td>1438.07</td>\n",
       "      <td>blue</td>\n",
       "      <td>M</td>\n",
       "      <td>doutorado</td>\n",
       "    </tr>\n",
       "    <tr>\n",
       "      <th>3</th>\n",
       "      <td>316</td>\n",
       "      <td>1438.08</td>\n",
       "      <td>blue</td>\n",
       "      <td>F</td>\n",
       "      <td>mestrado</td>\n",
       "    </tr>\n",
       "    <tr>\n",
       "      <th>4</th>\n",
       "      <td>148</td>\n",
       "      <td>1438.12</td>\n",
       "      <td>blue</td>\n",
       "      <td>F</td>\n",
       "      <td>sem educacao formal</td>\n",
       "    </tr>\n",
       "    <tr>\n",
       "      <th>5</th>\n",
       "      <td>190</td>\n",
       "      <td>1438.17</td>\n",
       "      <td>blue</td>\n",
       "      <td>F</td>\n",
       "      <td>ensino medio</td>\n",
       "    </tr>\n",
       "    <tr>\n",
       "      <th>6</th>\n",
       "      <td>203</td>\n",
       "      <td>1438.18</td>\n",
       "      <td>blue</td>\n",
       "      <td>M</td>\n",
       "      <td>sem educacao formal</td>\n",
       "    </tr>\n",
       "    <tr>\n",
       "      <th>7</th>\n",
       "      <td>330</td>\n",
       "      <td>1438.26</td>\n",
       "      <td>blue</td>\n",
       "      <td>M</td>\n",
       "      <td>ensino medio</td>\n",
       "    </tr>\n",
       "    <tr>\n",
       "      <th>8</th>\n",
       "      <td>158</td>\n",
       "      <td>1438.43</td>\n",
       "      <td>blue</td>\n",
       "      <td>M</td>\n",
       "      <td>graduacao</td>\n",
       "    </tr>\n",
       "    <tr>\n",
       "      <th>9</th>\n",
       "      <td>462</td>\n",
       "      <td>1438.45</td>\n",
       "      <td>blue</td>\n",
       "      <td>M</td>\n",
       "      <td>mestrado</td>\n",
       "    </tr>\n",
       "    <tr>\n",
       "      <th>10</th>\n",
       "      <td>9</td>\n",
       "      <td>10091.74</td>\n",
       "      <td>silver</td>\n",
       "      <td>F</td>\n",
       "      <td>sem educacao formal</td>\n",
       "    </tr>\n",
       "    <tr>\n",
       "      <th>11</th>\n",
       "      <td>6</td>\n",
       "      <td>10110.58</td>\n",
       "      <td>silver</td>\n",
       "      <td>F</td>\n",
       "      <td>mestrado</td>\n",
       "    </tr>\n",
       "    <tr>\n",
       "      <th>12</th>\n",
       "      <td>5</td>\n",
       "      <td>10357.97</td>\n",
       "      <td>silver</td>\n",
       "      <td>F</td>\n",
       "      <td>doutorado</td>\n",
       "    </tr>\n",
       "    <tr>\n",
       "      <th>13</th>\n",
       "      <td>5</td>\n",
       "      <td>10514.17</td>\n",
       "      <td>silver</td>\n",
       "      <td>F</td>\n",
       "      <td>ensino medio</td>\n",
       "    </tr>\n",
       "    <tr>\n",
       "      <th>14</th>\n",
       "      <td>3</td>\n",
       "      <td>10790.91</td>\n",
       "      <td>silver</td>\n",
       "      <td>F</td>\n",
       "      <td>graduacao</td>\n",
       "    </tr>\n",
       "    <tr>\n",
       "      <th>15</th>\n",
       "      <td>14</td>\n",
       "      <td>12609.78</td>\n",
       "      <td>silver</td>\n",
       "      <td>M</td>\n",
       "      <td>ensino medio</td>\n",
       "    </tr>\n",
       "    <tr>\n",
       "      <th>16</th>\n",
       "      <td>22</td>\n",
       "      <td>15198.71</td>\n",
       "      <td>silver</td>\n",
       "      <td>M</td>\n",
       "      <td>mestrado</td>\n",
       "    </tr>\n",
       "    <tr>\n",
       "      <th>17</th>\n",
       "      <td>2</td>\n",
       "      <td>15433.35</td>\n",
       "      <td>gold</td>\n",
       "      <td>F</td>\n",
       "      <td>ensino medio</td>\n",
       "    </tr>\n",
       "    <tr>\n",
       "      <th>18</th>\n",
       "      <td>3</td>\n",
       "      <td>15459.46</td>\n",
       "      <td>silver</td>\n",
       "      <td>M</td>\n",
       "      <td>doutorado</td>\n",
       "    </tr>\n",
       "    <tr>\n",
       "      <th>19</th>\n",
       "      <td>1</td>\n",
       "      <td>15987.78</td>\n",
       "      <td>gold</td>\n",
       "      <td>F</td>\n",
       "      <td>mestrado</td>\n",
       "    </tr>\n",
       "    <tr>\n",
       "      <th>20</th>\n",
       "      <td>7</td>\n",
       "      <td>18431.35</td>\n",
       "      <td>silver</td>\n",
       "      <td>M</td>\n",
       "      <td>sem educacao formal</td>\n",
       "    </tr>\n",
       "    <tr>\n",
       "      <th>21</th>\n",
       "      <td>7</td>\n",
       "      <td>26750.60</td>\n",
       "      <td>silver</td>\n",
       "      <td>M</td>\n",
       "      <td>graduacao</td>\n",
       "    </tr>\n",
       "    <tr>\n",
       "      <th>22</th>\n",
       "      <td>1</td>\n",
       "      <td>34516.16</td>\n",
       "      <td>gold</td>\n",
       "      <td>M</td>\n",
       "      <td>doutorado</td>\n",
       "    </tr>\n",
       "    <tr>\n",
       "      <th>23</th>\n",
       "      <td>1</td>\n",
       "      <td>34516.25</td>\n",
       "      <td>platinum</td>\n",
       "      <td>M</td>\n",
       "      <td>mestrado</td>\n",
       "    </tr>\n",
       "    <tr>\n",
       "      <th>24</th>\n",
       "      <td>4</td>\n",
       "      <td>34516.60</td>\n",
       "      <td>gold</td>\n",
       "      <td>M</td>\n",
       "      <td>ensino medio</td>\n",
       "    </tr>\n",
       "    <tr>\n",
       "      <th>25</th>\n",
       "      <td>2</td>\n",
       "      <td>34516.91</td>\n",
       "      <td>gold</td>\n",
       "      <td>M</td>\n",
       "      <td>mestrado</td>\n",
       "    </tr>\n",
       "    <tr>\n",
       "      <th>26</th>\n",
       "      <td>1</td>\n",
       "      <td>34516.94</td>\n",
       "      <td>gold</td>\n",
       "      <td>M</td>\n",
       "      <td>graduacao</td>\n",
       "    </tr>\n",
       "    <tr>\n",
       "      <th>27</th>\n",
       "      <td>1</td>\n",
       "      <td>34516.94</td>\n",
       "      <td>gold</td>\n",
       "      <td>F</td>\n",
       "      <td>graduacao</td>\n",
       "    </tr>\n",
       "    <tr>\n",
       "      <th>28</th>\n",
       "      <td>1</td>\n",
       "      <td>34516.96</td>\n",
       "      <td>platinum</td>\n",
       "      <td>F</td>\n",
       "      <td>doutorado</td>\n",
       "    </tr>\n",
       "  </tbody>\n",
       "</table>\n",
       "</div>"
      ],
      "text/plain": [
       "    quantidade  limite_credito_minimo tipo_cartao sexo         escolaridade\n",
       "0           91                1438.03        blue    F            graduacao\n",
       "1           92                1438.04        blue    F            doutorado\n",
       "2          133                1438.07        blue    M            doutorado\n",
       "3          316                1438.08        blue    F             mestrado\n",
       "4          148                1438.12        blue    F  sem educacao formal\n",
       "5          190                1438.17        blue    F         ensino medio\n",
       "6          203                1438.18        blue    M  sem educacao formal\n",
       "7          330                1438.26        blue    M         ensino medio\n",
       "8          158                1438.43        blue    M            graduacao\n",
       "9          462                1438.45        blue    M             mestrado\n",
       "10           9               10091.74      silver    F  sem educacao formal\n",
       "11           6               10110.58      silver    F             mestrado\n",
       "12           5               10357.97      silver    F            doutorado\n",
       "13           5               10514.17      silver    F         ensino medio\n",
       "14           3               10790.91      silver    F            graduacao\n",
       "15          14               12609.78      silver    M         ensino medio\n",
       "16          22               15198.71      silver    M             mestrado\n",
       "17           2               15433.35        gold    F         ensino medio\n",
       "18           3               15459.46      silver    M            doutorado\n",
       "19           1               15987.78        gold    F             mestrado\n",
       "20           7               18431.35      silver    M  sem educacao formal\n",
       "21           7               26750.60      silver    M            graduacao\n",
       "22           1               34516.16        gold    M            doutorado\n",
       "23           1               34516.25    platinum    M             mestrado\n",
       "24           4               34516.60        gold    M         ensino medio\n",
       "25           2               34516.91        gold    M             mestrado\n",
       "26           1               34516.94        gold    M            graduacao\n",
       "27           1               34516.94        gold    F            graduacao\n",
       "28           1               34516.96    platinum    F            doutorado"
      ]
     },
     "execution_count": 12,
     "metadata": {},
     "output_type": "execute_result"
    }
   ],
   "source": [
    "pd.read_csv('https://raw.githubusercontent.com/rhatiro/exercicios-SQL-para-Analise-de-Dados-EBAC/main/Mo%CC%81dulo%208%20-%20Projeto%20Final/database/output/query12.csv')"
   ]
  },
  {
   "cell_type": "markdown",
   "id": "8857cd22-b518-46f3-ada2-ccae785c5d70",
   "metadata": {},
   "source": [
    "[Voltar ao índice](#Índice)"
   ]
  },
  {
   "cell_type": "markdown",
   "id": "b39e9302-b3dd-489e-9cc8-1f5f1a584596",
   "metadata": {},
   "source": [
    "## 2.7.2 Limite máximo de crédito de acordo com o tipo de cartão, sexo e escolaridade"
   ]
  },
  {
   "cell_type": "markdown",
   "id": "a40619d9-4126-4bb6-a2b0-f509f4c03486",
   "metadata": {},
   "source": [
    "> **Query 13:**\n",
    "\n",
    "```sql\n",
    "SELECT COUNT(*) as quantidade,\n",
    "\tMAX(limite_credito) AS limite_credito_maximo,\n",
    "\ttipo_cartao,\n",
    "\tsexo,\n",
    "\tescolaridade\n",
    "FROM credito\n",
    "WHERE escolaridade != 'na'\n",
    "GROUP BY sexo,\n",
    "\tescolaridade,\n",
    "\ttipo_cartao\n",
    "ORDER BY limite_credito_maximo DESC;\n",
    "```"
   ]
  },
  {
   "cell_type": "code",
   "execution_count": 13,
   "id": "96550367-1bdc-4bfd-acb9-45fcd58ebecc",
   "metadata": {
    "jupyter": {
     "source_hidden": true
    },
    "tags": []
   },
   "outputs": [
    {
     "data": {
      "text/html": [
       "<div>\n",
       "<style scoped>\n",
       "    .dataframe tbody tr th:only-of-type {\n",
       "        vertical-align: middle;\n",
       "    }\n",
       "\n",
       "    .dataframe tbody tr th {\n",
       "        vertical-align: top;\n",
       "    }\n",
       "\n",
       "    .dataframe thead th {\n",
       "        text-align: right;\n",
       "    }\n",
       "</style>\n",
       "<table border=\"1\" class=\"dataframe\">\n",
       "  <thead>\n",
       "    <tr style=\"text-align: right;\">\n",
       "      <th></th>\n",
       "      <th>quantidade</th>\n",
       "      <th>limite_credito_maximo</th>\n",
       "      <th>tipo_cartao</th>\n",
       "      <th>sexo</th>\n",
       "      <th>escolaridade</th>\n",
       "    </tr>\n",
       "  </thead>\n",
       "  <tbody>\n",
       "    <tr>\n",
       "      <th>0</th>\n",
       "      <td>203</td>\n",
       "      <td>34516.99</td>\n",
       "      <td>blue</td>\n",
       "      <td>M</td>\n",
       "      <td>sem educacao formal</td>\n",
       "    </tr>\n",
       "    <tr>\n",
       "      <th>1</th>\n",
       "      <td>2</td>\n",
       "      <td>34516.98</td>\n",
       "      <td>gold</td>\n",
       "      <td>M</td>\n",
       "      <td>mestrado</td>\n",
       "    </tr>\n",
       "    <tr>\n",
       "      <th>2</th>\n",
       "      <td>462</td>\n",
       "      <td>34516.97</td>\n",
       "      <td>blue</td>\n",
       "      <td>M</td>\n",
       "      <td>mestrado</td>\n",
       "    </tr>\n",
       "    <tr>\n",
       "      <th>3</th>\n",
       "      <td>1</td>\n",
       "      <td>34516.96</td>\n",
       "      <td>platinum</td>\n",
       "      <td>F</td>\n",
       "      <td>doutorado</td>\n",
       "    </tr>\n",
       "    <tr>\n",
       "      <th>4</th>\n",
       "      <td>7</td>\n",
       "      <td>34516.96</td>\n",
       "      <td>silver</td>\n",
       "      <td>M</td>\n",
       "      <td>sem educacao formal</td>\n",
       "    </tr>\n",
       "    <tr>\n",
       "      <th>5</th>\n",
       "      <td>4</td>\n",
       "      <td>34516.95</td>\n",
       "      <td>gold</td>\n",
       "      <td>M</td>\n",
       "      <td>ensino medio</td>\n",
       "    </tr>\n",
       "    <tr>\n",
       "      <th>6</th>\n",
       "      <td>1</td>\n",
       "      <td>34516.94</td>\n",
       "      <td>gold</td>\n",
       "      <td>M</td>\n",
       "      <td>graduacao</td>\n",
       "    </tr>\n",
       "    <tr>\n",
       "      <th>7</th>\n",
       "      <td>1</td>\n",
       "      <td>34516.94</td>\n",
       "      <td>gold</td>\n",
       "      <td>F</td>\n",
       "      <td>graduacao</td>\n",
       "    </tr>\n",
       "    <tr>\n",
       "      <th>8</th>\n",
       "      <td>7</td>\n",
       "      <td>34516.89</td>\n",
       "      <td>silver</td>\n",
       "      <td>M</td>\n",
       "      <td>graduacao</td>\n",
       "    </tr>\n",
       "    <tr>\n",
       "      <th>9</th>\n",
       "      <td>330</td>\n",
       "      <td>34516.74</td>\n",
       "      <td>blue</td>\n",
       "      <td>M</td>\n",
       "      <td>ensino medio</td>\n",
       "    </tr>\n",
       "    <tr>\n",
       "      <th>10</th>\n",
       "      <td>158</td>\n",
       "      <td>34516.73</td>\n",
       "      <td>blue</td>\n",
       "      <td>M</td>\n",
       "      <td>graduacao</td>\n",
       "    </tr>\n",
       "    <tr>\n",
       "      <th>11</th>\n",
       "      <td>133</td>\n",
       "      <td>34516.72</td>\n",
       "      <td>blue</td>\n",
       "      <td>M</td>\n",
       "      <td>doutorado</td>\n",
       "    </tr>\n",
       "    <tr>\n",
       "      <th>12</th>\n",
       "      <td>22</td>\n",
       "      <td>34516.66</td>\n",
       "      <td>silver</td>\n",
       "      <td>M</td>\n",
       "      <td>mestrado</td>\n",
       "    </tr>\n",
       "    <tr>\n",
       "      <th>13</th>\n",
       "      <td>5</td>\n",
       "      <td>34516.53</td>\n",
       "      <td>silver</td>\n",
       "      <td>F</td>\n",
       "      <td>doutorado</td>\n",
       "    </tr>\n",
       "    <tr>\n",
       "      <th>14</th>\n",
       "      <td>3</td>\n",
       "      <td>34516.36</td>\n",
       "      <td>silver</td>\n",
       "      <td>F</td>\n",
       "      <td>graduacao</td>\n",
       "    </tr>\n",
       "    <tr>\n",
       "      <th>15</th>\n",
       "      <td>14</td>\n",
       "      <td>34516.34</td>\n",
       "      <td>silver</td>\n",
       "      <td>M</td>\n",
       "      <td>ensino medio</td>\n",
       "    </tr>\n",
       "    <tr>\n",
       "      <th>16</th>\n",
       "      <td>3</td>\n",
       "      <td>34516.29</td>\n",
       "      <td>silver</td>\n",
       "      <td>M</td>\n",
       "      <td>doutorado</td>\n",
       "    </tr>\n",
       "    <tr>\n",
       "      <th>17</th>\n",
       "      <td>9</td>\n",
       "      <td>34516.26</td>\n",
       "      <td>silver</td>\n",
       "      <td>F</td>\n",
       "      <td>sem educacao formal</td>\n",
       "    </tr>\n",
       "    <tr>\n",
       "      <th>18</th>\n",
       "      <td>1</td>\n",
       "      <td>34516.25</td>\n",
       "      <td>platinum</td>\n",
       "      <td>M</td>\n",
       "      <td>mestrado</td>\n",
       "    </tr>\n",
       "    <tr>\n",
       "      <th>19</th>\n",
       "      <td>1</td>\n",
       "      <td>34516.16</td>\n",
       "      <td>gold</td>\n",
       "      <td>M</td>\n",
       "      <td>doutorado</td>\n",
       "    </tr>\n",
       "    <tr>\n",
       "      <th>20</th>\n",
       "      <td>6</td>\n",
       "      <td>30310.45</td>\n",
       "      <td>silver</td>\n",
       "      <td>F</td>\n",
       "      <td>mestrado</td>\n",
       "    </tr>\n",
       "    <tr>\n",
       "      <th>21</th>\n",
       "      <td>190</td>\n",
       "      <td>29543.10</td>\n",
       "      <td>blue</td>\n",
       "      <td>F</td>\n",
       "      <td>ensino medio</td>\n",
       "    </tr>\n",
       "    <tr>\n",
       "      <th>22</th>\n",
       "      <td>148</td>\n",
       "      <td>26181.89</td>\n",
       "      <td>blue</td>\n",
       "      <td>F</td>\n",
       "      <td>sem educacao formal</td>\n",
       "    </tr>\n",
       "    <tr>\n",
       "      <th>23</th>\n",
       "      <td>92</td>\n",
       "      <td>26053.49</td>\n",
       "      <td>blue</td>\n",
       "      <td>F</td>\n",
       "      <td>doutorado</td>\n",
       "    </tr>\n",
       "    <tr>\n",
       "      <th>24</th>\n",
       "      <td>316</td>\n",
       "      <td>24936.22</td>\n",
       "      <td>blue</td>\n",
       "      <td>F</td>\n",
       "      <td>mestrado</td>\n",
       "    </tr>\n",
       "    <tr>\n",
       "      <th>25</th>\n",
       "      <td>91</td>\n",
       "      <td>23032.31</td>\n",
       "      <td>blue</td>\n",
       "      <td>F</td>\n",
       "      <td>graduacao</td>\n",
       "    </tr>\n",
       "    <tr>\n",
       "      <th>26</th>\n",
       "      <td>1</td>\n",
       "      <td>15987.78</td>\n",
       "      <td>gold</td>\n",
       "      <td>F</td>\n",
       "      <td>mestrado</td>\n",
       "    </tr>\n",
       "    <tr>\n",
       "      <th>27</th>\n",
       "      <td>2</td>\n",
       "      <td>15534.85</td>\n",
       "      <td>gold</td>\n",
       "      <td>F</td>\n",
       "      <td>ensino medio</td>\n",
       "    </tr>\n",
       "    <tr>\n",
       "      <th>28</th>\n",
       "      <td>5</td>\n",
       "      <td>13882.37</td>\n",
       "      <td>silver</td>\n",
       "      <td>F</td>\n",
       "      <td>ensino medio</td>\n",
       "    </tr>\n",
       "  </tbody>\n",
       "</table>\n",
       "</div>"
      ],
      "text/plain": [
       "    quantidade  limite_credito_maximo tipo_cartao sexo         escolaridade\n",
       "0          203               34516.99        blue    M  sem educacao formal\n",
       "1            2               34516.98        gold    M             mestrado\n",
       "2          462               34516.97        blue    M             mestrado\n",
       "3            1               34516.96    platinum    F            doutorado\n",
       "4            7               34516.96      silver    M  sem educacao formal\n",
       "5            4               34516.95        gold    M         ensino medio\n",
       "6            1               34516.94        gold    M            graduacao\n",
       "7            1               34516.94        gold    F            graduacao\n",
       "8            7               34516.89      silver    M            graduacao\n",
       "9          330               34516.74        blue    M         ensino medio\n",
       "10         158               34516.73        blue    M            graduacao\n",
       "11         133               34516.72        blue    M            doutorado\n",
       "12          22               34516.66      silver    M             mestrado\n",
       "13           5               34516.53      silver    F            doutorado\n",
       "14           3               34516.36      silver    F            graduacao\n",
       "15          14               34516.34      silver    M         ensino medio\n",
       "16           3               34516.29      silver    M            doutorado\n",
       "17           9               34516.26      silver    F  sem educacao formal\n",
       "18           1               34516.25    platinum    M             mestrado\n",
       "19           1               34516.16        gold    M            doutorado\n",
       "20           6               30310.45      silver    F             mestrado\n",
       "21         190               29543.10        blue    F         ensino medio\n",
       "22         148               26181.89        blue    F  sem educacao formal\n",
       "23          92               26053.49        blue    F            doutorado\n",
       "24         316               24936.22        blue    F             mestrado\n",
       "25          91               23032.31        blue    F            graduacao\n",
       "26           1               15987.78        gold    F             mestrado\n",
       "27           2               15534.85        gold    F         ensino medio\n",
       "28           5               13882.37      silver    F         ensino medio"
      ]
     },
     "execution_count": 13,
     "metadata": {},
     "output_type": "execute_result"
    }
   ],
   "source": [
    "pd.read_csv('https://raw.githubusercontent.com/rhatiro/exercicios-SQL-para-Analise-de-Dados-EBAC/main/Mo%CC%81dulo%208%20-%20Projeto%20Final/database/output/query13.csv')"
   ]
  },
  {
   "cell_type": "markdown",
   "id": "4206cce8-9c0b-45f9-ab09-a0b42891f13c",
   "metadata": {},
   "source": [
    "[Voltar ao índice](#Índice)"
   ]
  },
  {
   "cell_type": "markdown",
   "id": "e7e7f423-5879-4996-9752-2c23e6fa4b47",
   "metadata": {},
   "source": [
    "É possível observar que não há uma relação considerável da variável `escolaridade` com o limite de crédito dos clientes. Os resultados dos limites mínimos de acordo com as separações categóricas demonstram que o tipo de cartão *blue* representa a maior parte dos limites mais baixos enquanto os demais representam os mais altos. \n",
    "\n",
    "A variável `sexo` demonstra que clientes do sexo masculino possuem limites máximos de crédito mais altos enquanto clientes do sexo feminino possuem limites máximos de crédito mais baixos."
   ]
  },
  {
   "cell_type": "markdown",
   "id": "4b43b935-97bc-46da-95d1-d6919c8d7809",
   "metadata": {},
   "source": [
    "## 2.8 Análise da quantidade e valores das transações de acordo com o sexo e estado civil"
   ]
  },
  {
   "cell_type": "markdown",
   "id": "64963ff0-c6e0-4d33-a335-8648c8980076",
   "metadata": {},
   "source": [
    "> **Query 14:**\n",
    "\n",
    "```sql\n",
    "SELECT COUNT(*) AS quantidade,\n",
    "\tsexo,\n",
    "\testado_civil,\n",
    "\tMIN(valor_transacoes_12m) AS valor_minimo_transacoes,\n",
    "\tMAX(valor_transacoes_12m) AS valor_maximo_transacoes,\n",
    "\tAVG(valor_transacoes_12m) AS valor_medio_transacoes\n",
    "FROM credito\n",
    "WHERE estado_civil != 'na'\n",
    "GROUP BY sexo,\n",
    "\testado_civil\n",
    "ORDER BY quantidade ASC;\n",
    "```"
   ]
  },
  {
   "cell_type": "code",
   "execution_count": 14,
   "id": "12b2ab15-ca91-4483-a32a-d77d158acf9a",
   "metadata": {
    "jupyter": {
     "source_hidden": true
    },
    "tags": []
   },
   "outputs": [
    {
     "data": {
      "text/html": [
       "<div>\n",
       "<style scoped>\n",
       "    .dataframe tbody tr th:only-of-type {\n",
       "        vertical-align: middle;\n",
       "    }\n",
       "\n",
       "    .dataframe tbody tr th {\n",
       "        vertical-align: top;\n",
       "    }\n",
       "\n",
       "    .dataframe thead th {\n",
       "        text-align: right;\n",
       "    }\n",
       "</style>\n",
       "<table border=\"1\" class=\"dataframe\">\n",
       "  <thead>\n",
       "    <tr style=\"text-align: right;\">\n",
       "      <th></th>\n",
       "      <th>quantidade</th>\n",
       "      <th>sexo</th>\n",
       "      <th>estado_civil</th>\n",
       "      <th>valor_minimo_transacoes</th>\n",
       "      <th>valor_maximo_transacoes</th>\n",
       "      <th>valor_medio_transacoes</th>\n",
       "    </tr>\n",
       "  </thead>\n",
       "  <tbody>\n",
       "    <tr>\n",
       "      <th>0</th>\n",
       "      <td>69</td>\n",
       "      <td>F</td>\n",
       "      <td>divorciado</td>\n",
       "      <td>1039.44</td>\n",
       "      <td>4370.80</td>\n",
       "      <td>2024.6688</td>\n",
       "    </tr>\n",
       "    <tr>\n",
       "      <th>1</th>\n",
       "      <td>92</td>\n",
       "      <td>M</td>\n",
       "      <td>divorciado</td>\n",
       "      <td>781.27</td>\n",
       "      <td>4605.89</td>\n",
       "      <td>1959.7296</td>\n",
       "    </tr>\n",
       "    <tr>\n",
       "      <th>2</th>\n",
       "      <td>308</td>\n",
       "      <td>F</td>\n",
       "      <td>solteiro</td>\n",
       "      <td>777.75</td>\n",
       "      <td>4776.58</td>\n",
       "      <td>2035.2687</td>\n",
       "    </tr>\n",
       "    <tr>\n",
       "      <th>3</th>\n",
       "      <td>458</td>\n",
       "      <td>M</td>\n",
       "      <td>solteiro</td>\n",
       "      <td>530.36</td>\n",
       "      <td>4686.93</td>\n",
       "      <td>1978.7189</td>\n",
       "    </tr>\n",
       "    <tr>\n",
       "      <th>4</th>\n",
       "      <td>591</td>\n",
       "      <td>F</td>\n",
       "      <td>casado</td>\n",
       "      <td>510.16</td>\n",
       "      <td>4740.94</td>\n",
       "      <td>1707.7339</td>\n",
       "    </tr>\n",
       "    <tr>\n",
       "      <th>5</th>\n",
       "      <td>930</td>\n",
       "      <td>M</td>\n",
       "      <td>casado</td>\n",
       "      <td>563.93</td>\n",
       "      <td>4542.69</td>\n",
       "      <td>1723.0211</td>\n",
       "    </tr>\n",
       "  </tbody>\n",
       "</table>\n",
       "</div>"
      ],
      "text/plain": [
       "   quantidade sexo estado_civil  valor_minimo_transacoes  \\\n",
       "0          69    F   divorciado                  1039.44   \n",
       "1          92    M   divorciado                   781.27   \n",
       "2         308    F     solteiro                   777.75   \n",
       "3         458    M     solteiro                   530.36   \n",
       "4         591    F       casado                   510.16   \n",
       "5         930    M       casado                   563.93   \n",
       "\n",
       "   valor_maximo_transacoes  valor_medio_transacoes  \n",
       "0                  4370.80               2024.6688  \n",
       "1                  4605.89               1959.7296  \n",
       "2                  4776.58               2035.2687  \n",
       "3                  4686.93               1978.7189  \n",
       "4                  4740.94               1707.7339  \n",
       "5                  4542.69               1723.0211  "
      ]
     },
     "execution_count": 14,
     "metadata": {},
     "output_type": "execute_result"
    }
   ],
   "source": [
    "pd.read_csv('https://raw.githubusercontent.com/rhatiro/exercicios-SQL-para-Analise-de-Dados-EBAC/main/Mo%CC%81dulo%208%20-%20Projeto%20Final/database/output/query14.csv')"
   ]
  },
  {
   "cell_type": "markdown",
   "id": "67b73422-5a30-4e86-ae3c-75feba6e44ab",
   "metadata": {},
   "source": [
    "> Nesta análise podemos notar que a quantidade de transações tem uma relação considerável com a variável `estado_civil`, sendo que a maior parte foi efetuada por clientes casados e a menor parte por clientes divorciados. Em contrapartida, a média de valor das transações também se diferencia de acordo com o estado civil mas de forma contrária, na qual a média mais alta são dos clientes divorciados e a média mais baixa são dos clientes casados, assim como pode ser constatado na relação dos valores mínimos de transações, dando a entender que a baixa quantidade de transações possívelmente tenha relação com o alto valor das mesmas.\n",
    ">\n",
    "> Em relação ao sexo do cliente, a variação não chega a ser tão grande, havendo somente uma leve discrepância entre os valores mínimos das transações, demonstrando ser mais alto entre clientes do sexo feminino que estão divorciadas. Já entre as categorias da variável `estado_civil`, observa-se que clientes solteiros e divorciados do sexo masculino efetuaram uma quantidade maior transações do que clientes do sexo feminino, porém a quantidade é um pouco maior entre clientes casados."
   ]
  },
  {
   "cell_type": "markdown",
   "id": "cd97315a-0e5a-465c-ac10-1a3527cbd31c",
   "metadata": {},
   "source": [
    "[Voltar ao índice](#Índice)"
   ]
  },
  {
   "cell_type": "markdown",
   "id": "0ce3eb7f-e3b5-4266-838c-a5a55c3227de",
   "metadata": {},
   "source": [
    "## 2.9 Média da quantidade de transações, valor das transações e limite de crédito de acordo com o tipo de cartão e salário anual"
   ]
  },
  {
   "cell_type": "markdown",
   "id": "9e618fb7-902d-4b97-8ca6-0d2a840929bb",
   "metadata": {},
   "source": [
    "> **Query 15:**\n",
    "\n",
    "```sql\n",
    "SELECT COUNT(*) AS quantidade,\n",
    "\ttipo_cartao,\n",
    "\tsalario_anual,\n",
    "\tROUND(AVG(qtd_transacoes_12m)) AS media_qtd_transacoes,\n",
    "\tROUND(AVG(valor_transacoes_12m), 2) AS media_valor_transacoes,\n",
    "\tROUND(AVG(limite_credito), 2) AS media_limite_credito\n",
    "FROM credito\n",
    "WHERE salario_anual != 'na'\n",
    "GROUP BY tipo_cartao,\n",
    "\tsalario_anual\n",
    "ORDER BY CASE\n",
    "\t\ttipo_cartao\n",
    "\t\tWHEN 'blue' THEN 1\n",
    "\t\tWHEN 'silver' THEN 2\n",
    "\t\tWHEN 'gold' THEN 3 ELSE 4\n",
    "\tEND,\n",
    "\tCASE\n",
    "\t\tsalario_anual\n",
    "\t\tWHEN 'menos que $40K' THEN 1\n",
    "\t\tWHEN '$40K - $60K' THEN 2\n",
    "\t\tWHEN '$60K - $80K' THEN 3\n",
    "\t\tWHEN '$80K - $120K' THEN 4\n",
    "\t\tWHEN '$120K +' THEN 5 ELSE 6\n",
    "\tEND;\n",
    "```"
   ]
  },
  {
   "cell_type": "code",
   "execution_count": 15,
   "id": "557bd8bc-e401-4c0c-8457-b00994db33ae",
   "metadata": {
    "jupyter": {
     "source_hidden": true
    },
    "tags": []
   },
   "outputs": [
    {
     "data": {
      "text/html": [
       "<div>\n",
       "<style scoped>\n",
       "    .dataframe tbody tr th:only-of-type {\n",
       "        vertical-align: middle;\n",
       "    }\n",
       "\n",
       "    .dataframe tbody tr th {\n",
       "        vertical-align: top;\n",
       "    }\n",
       "\n",
       "    .dataframe thead th {\n",
       "        text-align: right;\n",
       "    }\n",
       "</style>\n",
       "<table border=\"1\" class=\"dataframe\">\n",
       "  <thead>\n",
       "    <tr style=\"text-align: right;\">\n",
       "      <th></th>\n",
       "      <th>quantidade</th>\n",
       "      <th>tipo_cartao</th>\n",
       "      <th>salario_anual</th>\n",
       "      <th>media_qtd_transacoes</th>\n",
       "      <th>media_valor_transacoes</th>\n",
       "      <th>media_limite_credito</th>\n",
       "    </tr>\n",
       "  </thead>\n",
       "  <tbody>\n",
       "    <tr>\n",
       "      <th>0</th>\n",
       "      <td>677</td>\n",
       "      <td>blue</td>\n",
       "      <td>menos que $40K</td>\n",
       "      <td>43.0</td>\n",
       "      <td>1857.24</td>\n",
       "      <td>3797.09</td>\n",
       "    </tr>\n",
       "    <tr>\n",
       "      <th>1</th>\n",
       "      <td>449</td>\n",
       "      <td>blue</td>\n",
       "      <td>$40K - $60K</td>\n",
       "      <td>42.0</td>\n",
       "      <td>1841.51</td>\n",
       "      <td>4832.76</td>\n",
       "    </tr>\n",
       "    <tr>\n",
       "      <th>2</th>\n",
       "      <td>431</td>\n",
       "      <td>blue</td>\n",
       "      <td>$60K - $80K</td>\n",
       "      <td>41.0</td>\n",
       "      <td>1814.45</td>\n",
       "      <td>8061.38</td>\n",
       "    </tr>\n",
       "    <tr>\n",
       "      <th>3</th>\n",
       "      <td>461</td>\n",
       "      <td>blue</td>\n",
       "      <td>$80K - $120K</td>\n",
       "      <td>40.0</td>\n",
       "      <td>1748.57</td>\n",
       "      <td>13736.87</td>\n",
       "    </tr>\n",
       "    <tr>\n",
       "      <th>4</th>\n",
       "      <td>212</td>\n",
       "      <td>blue</td>\n",
       "      <td>$120K +</td>\n",
       "      <td>40.0</td>\n",
       "      <td>1707.02</td>\n",
       "      <td>17105.39</td>\n",
       "    </tr>\n",
       "    <tr>\n",
       "      <th>5</th>\n",
       "      <td>20</td>\n",
       "      <td>silver</td>\n",
       "      <td>menos que $40K</td>\n",
       "      <td>45.0</td>\n",
       "      <td>2120.20</td>\n",
       "      <td>12007.81</td>\n",
       "    </tr>\n",
       "    <tr>\n",
       "      <th>6</th>\n",
       "      <td>17</td>\n",
       "      <td>silver</td>\n",
       "      <td>$40K - $60K</td>\n",
       "      <td>43.0</td>\n",
       "      <td>1776.94</td>\n",
       "      <td>17870.18</td>\n",
       "    </tr>\n",
       "    <tr>\n",
       "      <th>7</th>\n",
       "      <td>15</td>\n",
       "      <td>silver</td>\n",
       "      <td>$60K - $80K</td>\n",
       "      <td>39.0</td>\n",
       "      <td>1610.78</td>\n",
       "      <td>30351.36</td>\n",
       "    </tr>\n",
       "    <tr>\n",
       "      <th>8</th>\n",
       "      <td>22</td>\n",
       "      <td>silver</td>\n",
       "      <td>$80K - $120K</td>\n",
       "      <td>45.0</td>\n",
       "      <td>1910.17</td>\n",
       "      <td>34516.40</td>\n",
       "    </tr>\n",
       "    <tr>\n",
       "      <th>9</th>\n",
       "      <td>9</td>\n",
       "      <td>silver</td>\n",
       "      <td>$120K +</td>\n",
       "      <td>41.0</td>\n",
       "      <td>1611.85</td>\n",
       "      <td>32341.10</td>\n",
       "    </tr>\n",
       "    <tr>\n",
       "      <th>10</th>\n",
       "      <td>4</td>\n",
       "      <td>gold</td>\n",
       "      <td>menos que $40K</td>\n",
       "      <td>38.0</td>\n",
       "      <td>1502.60</td>\n",
       "      <td>15735.89</td>\n",
       "    </tr>\n",
       "    <tr>\n",
       "      <th>11</th>\n",
       "      <td>1</td>\n",
       "      <td>gold</td>\n",
       "      <td>$40K - $60K</td>\n",
       "      <td>34.0</td>\n",
       "      <td>1421.27</td>\n",
       "      <td>23981.32</td>\n",
       "    </tr>\n",
       "    <tr>\n",
       "      <th>12</th>\n",
       "      <td>5</td>\n",
       "      <td>gold</td>\n",
       "      <td>$60K - $80K</td>\n",
       "      <td>58.0</td>\n",
       "      <td>2802.68</td>\n",
       "      <td>34516.77</td>\n",
       "    </tr>\n",
       "    <tr>\n",
       "      <th>13</th>\n",
       "      <td>4</td>\n",
       "      <td>gold</td>\n",
       "      <td>$80K - $120K</td>\n",
       "      <td>44.0</td>\n",
       "      <td>1823.24</td>\n",
       "      <td>34516.84</td>\n",
       "    </tr>\n",
       "    <tr>\n",
       "      <th>14</th>\n",
       "      <td>1</td>\n",
       "      <td>gold</td>\n",
       "      <td>$120K +</td>\n",
       "      <td>31.0</td>\n",
       "      <td>1330.87</td>\n",
       "      <td>34516.72</td>\n",
       "    </tr>\n",
       "    <tr>\n",
       "      <th>15</th>\n",
       "      <td>1</td>\n",
       "      <td>platinum</td>\n",
       "      <td>$80K - $120K</td>\n",
       "      <td>29.0</td>\n",
       "      <td>1156.61</td>\n",
       "      <td>34516.25</td>\n",
       "    </tr>\n",
       "  </tbody>\n",
       "</table>\n",
       "</div>"
      ],
      "text/plain": [
       "    quantidade tipo_cartao   salario_anual  media_qtd_transacoes  \\\n",
       "0          677        blue  menos que $40K                  43.0   \n",
       "1          449        blue     $40K - $60K                  42.0   \n",
       "2          431        blue     $60K - $80K                  41.0   \n",
       "3          461        blue    $80K - $120K                  40.0   \n",
       "4          212        blue         $120K +                  40.0   \n",
       "5           20      silver  menos que $40K                  45.0   \n",
       "6           17      silver     $40K - $60K                  43.0   \n",
       "7           15      silver     $60K - $80K                  39.0   \n",
       "8           22      silver    $80K - $120K                  45.0   \n",
       "9            9      silver         $120K +                  41.0   \n",
       "10           4        gold  menos que $40K                  38.0   \n",
       "11           1        gold     $40K - $60K                  34.0   \n",
       "12           5        gold     $60K - $80K                  58.0   \n",
       "13           4        gold    $80K - $120K                  44.0   \n",
       "14           1        gold         $120K +                  31.0   \n",
       "15           1    platinum    $80K - $120K                  29.0   \n",
       "\n",
       "    media_valor_transacoes  media_limite_credito  \n",
       "0                  1857.24               3797.09  \n",
       "1                  1841.51               4832.76  \n",
       "2                  1814.45               8061.38  \n",
       "3                  1748.57              13736.87  \n",
       "4                  1707.02              17105.39  \n",
       "5                  2120.20              12007.81  \n",
       "6                  1776.94              17870.18  \n",
       "7                  1610.78              30351.36  \n",
       "8                  1910.17              34516.40  \n",
       "9                  1611.85              32341.10  \n",
       "10                 1502.60              15735.89  \n",
       "11                 1421.27              23981.32  \n",
       "12                 2802.68              34516.77  \n",
       "13                 1823.24              34516.84  \n",
       "14                 1330.87              34516.72  \n",
       "15                 1156.61              34516.25  "
      ]
     },
     "execution_count": 15,
     "metadata": {},
     "output_type": "execute_result"
    }
   ],
   "source": [
    "pd.read_csv('https://raw.githubusercontent.com/rhatiro/exercicios-SQL-para-Analise-de-Dados-EBAC/main/Mo%CC%81dulo%208%20-%20Projeto%20Final/database/output/query15.csv')"
   ]
  },
  {
   "cell_type": "markdown",
   "id": "8687beca-9d14-43d2-81cd-d2429e34b3d5",
   "metadata": {},
   "source": [
    "> Nesta análise podemos ver novamente a relação entre o limite de crédito com o tipo de cartão do cliente, sendo que as médias mais baixas de limite são dos clientes que possuem o tipo de cartão *blue*, aumentando de acordo com a faixa salarial anual. As demais médias de quantidade e valor das transações não possuem relação tão considerável com as variáveis deste resultado."
   ]
  },
  {
   "cell_type": "markdown",
   "id": "790f2965-0419-4b31-9992-27a2d766f94d",
   "metadata": {},
   "source": [
    "[Voltar ao índice](#Índice)"
   ]
  },
  {
   "cell_type": "markdown",
   "id": "e23c1f71-1186-49d4-856d-edb38b642d91",
   "metadata": {},
   "source": [
    "# **3. Conclusão:**"
   ]
  },
  {
   "cell_type": "markdown",
   "id": "9b5faccc-29c1-4255-a08c-8490b20a2443",
   "metadata": {},
   "source": [
    "Essas foram algumas das análises extraídas do conjunto de dados, fornecendo insights sobre o perfil dos clientes e seus comportamentos de transação. Resumidamente, destacam-se os seguintes insights:\n",
    "- A maioria dos clientes possui um salário anual abaixo de $40.000,00, apresentando o tipo de cartão *blue* e limites de crédito mais baixos. Isso indica que a campanha de marketing direcionada a esse grupo específico pode ter um impacto significativo, considerando sua representatividade na base de clientes.\n",
    "- Ao analisar a variável sexo, observa-se que os clientes do sexo masculino possuem limites máximos de crédito mais elevados em comparação aos clientes do sexo feminino. No entanto, é importante ressaltar que a proporção de clientes masculinos e femininos na base de dados não está equilibrada, o que pode influenciar essa discrepância.\n",
    "- Verificou-se que os clientes casados são responsáveis pela maior parte das transações, enquanto os clientes divorciados apresentam uma menor participação. Além disso, os clientes divorciados possuem uma média mais alta de valor das transações, sugerindo uma possível relação entre a menor quantidade de transações e seu valor mais elevado.\n",
    "- Quando analisados por gênero, os clientes solteiros e divorciados do sexo masculino realizaram mais transações em comparação às clientes do sexo feminino. No entanto, a quantidade de transações entre clientes casados é ligeiramente superior. Esses dados destacam a importância de considerar o estado civil e o gênero ao desenvolver estratégias de marketing personalizadas.\n",
    "- As médias de limite de crédito mais baixas foram encontradas entre os clientes com o tipo de cartão *blue*. Além disso, em cada categoria de tipo de cartão, a média de limite de crédito aumenta de acordo com a faixa salarial anual do cliente. Essa informação pode ser relevante para ajustar as ofertas e comunicações de acordo com o perfil de cada cliente, considerando sua capacidade de gastos.\n",
    "\n",
    "Esses insights oferecem uma visão mais completa do comportamento dos clientes e podem servir como base para a tomada de decisões estratégicas, permitindo uma segmentação mais eficiente e personalizada dos esforços de marketing.\n",
    "\n",
    "**Com base nesta análise geral do conjunto de dados, conclui-se que, para uma possível campanha de marketing direcionada aos clientes mais ativos, é recomendado um foco maior nos clientes casados que possuem o tipo de cartão *blue* e apresentam um salário anual abaixo de $40.000,00. Essa estratégia visa otimizar os esforços de marketing, concentrando-se nos segmentos de clientes com maior potencial de resposta e engajamento, permitindo uma alocação mais eficiente dos recursos disponíveis. Ao direcionar a campanha para essa demografia específica, espera-se aumentar a eficácia das ações de marketing e obter resultados mais favoráveis em termos de aquisição e retenção de clientes.**"
   ]
  },
  {
   "cell_type": "markdown",
   "id": "e200e369-3c78-4243-a18d-530b17133b92",
   "metadata": {},
   "source": [
    "[Voltar ao índice](#Índice)"
   ]
  },
  {
   "cell_type": "markdown",
   "id": "d6aeb69c-c467-48b9-a26b-3b25990b912d",
   "metadata": {},
   "source": [
    "---"
   ]
  }
 ],
 "metadata": {
  "kernelspec": {
   "display_name": "Python 3 (ipykernel)",
   "language": "python",
   "name": "python3"
  },
  "language_info": {
   "codemirror_mode": {
    "name": "ipython",
    "version": 3
   },
   "file_extension": ".py",
   "mimetype": "text/x-python",
   "name": "python",
   "nbconvert_exporter": "python",
   "pygments_lexer": "ipython3",
   "version": "3.9.13"
  },
  "toc-autonumbering": false,
  "toc-showtags": false
 },
 "nbformat": 4,
 "nbformat_minor": 5
}
